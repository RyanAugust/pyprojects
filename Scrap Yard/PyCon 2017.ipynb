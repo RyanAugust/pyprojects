{
 "cells": [
  {
   "cell_type": "markdown",
   "metadata": {},
   "source": [
    "# Working through PyCon 2017 Lectures\n",
    "___\n",
    "* No More Sad Pandas Optimizing Sad Pandas Code for Speed and Efficency"
   ]
  },
  {
   "cell_type": "markdown",
   "metadata": {},
   "source": [
    "## No More Sad Pandas Optimizing Sad Pandas Code for Speed and Efficency\n",
    "dir = "
   ]
  },
  {
   "cell_type": "code",
   "execution_count": null,
   "metadata": {
    "collapsed": true
   },
   "outputs": [],
   "source": []
  }
 ],
 "metadata": {
  "kernelspec": {
   "display_name": "Python 3",
   "language": "python",
   "name": "python3"
  },
  "language_info": {
   "codemirror_mode": {
    "name": "ipython",
    "version": 3
   },
   "file_extension": ".py",
   "mimetype": "text/x-python",
   "name": "python",
   "nbconvert_exporter": "python",
   "pygments_lexer": "ipython3",
   "version": "3.6.0"
  }
 },
 "nbformat": 4,
 "nbformat_minor": 2
}
