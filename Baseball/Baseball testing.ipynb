{
 "cells": [
  {
   "cell_type": "code",
   "execution_count": 5,
   "metadata": {},
   "outputs": [],
   "source": [
    "from bs4 import BeautifulSoup\n",
    "import requests\n",
    "import string\n",
    "import csv\n",
    "from os.path import expanduser\n",
    "from concurrent import futures"
   ]
  },
  {
   "cell_type": "code",
   "execution_count": 35,
   "metadata": {},
   "outputs": [
    {
     "data": {
      "text/plain": [
       "18951"
      ]
     },
     "execution_count": 35,
     "metadata": {},
     "output_type": "execute_result"
    }
   ],
   "source": [
    "secondary_playerlist = []\n",
    "for letter in list(string.ascii_lowercase):\n",
    "    page = BeautifulSoup(requests.get('http://www.baseball-reference.com/players/{letter}/'.format(letter=letter)).text, 'lxml')\n",
    "    primary_playerlist = page('div', {'id': 'div_players_'})[0].find_all('a')\n",
    "    intermediate = [b['href'].split('/')[-1].split('.')[0] for b in primary_playerlist]\n",
    "    secondary_playerlist = secondary_playerlist + intermediate\n",
    "len(secondary_playerlist)"
   ]
  },
  {
   "cell_type": "code",
   "execution_count": 20,
   "metadata": {},
   "outputs": [],
   "source": [
    "url = 'http://www.baseball-reference.com/players/gl.cgi?id=aardsda01&t=b&year=2016'\n",
    "soup = BeautifulSoup(requests.get(url).text, 'lxml')"
   ]
  },
  {
   "cell_type": "code",
   "execution_count": 38,
   "metadata": {},
   "outputs": [],
   "source": [
    "def fetch_batting_data(player_id, year):\n",
    "    url = 'http://www.baseball-reference.com/players/gl.cgi?id={player_id}&t=b&year={year}'.format(player_id=player_id, year=year)\n",
    "    soup = BeautifulSoup(requests.get(url).text, 'lxml')\n",
    "    print(player_id)\n",
    "    #Set path\n",
    "    CompleteName = \"/Users/ryand/Desktop/baseball/player_batting_game_data/{player_id}_{year}.csv\".format(player_id=player_id, year=year)\n",
    "    with open(CompleteName, 'w') as f:\n",
    "        # Establish the Header\n",
    "        f.write(\"Rk\" + \",\" + \"Gcar\" + \",\" + \"Gtm\" + \",\" + \"Date\" + \",\" + \"Tm\" + \",\" + \"At/Away\"+ \",\" + \"Opp\" + \",\" + \"Rslt\" + \",\" + \"Inngs\" + \",\" + \"PA\" + \",\" + \"AB\" + \",\" + \"R\" + \",\" + \"H\" + \",\" + \"B2\" + \",\" + \"B3\" + \",\" + \"HR\" + \",\" + \"RBI\" + \",\" + \"BB\" + \",\" + \"IBB\" + \",\" + \"SO\" + \",\" + \"HBP\" + \",\" + \"SH\" + \",\" + \"SF\" + \",\" + \"ROE\" + \",\" + \"GDP\" + \",\" + \"SB\" + \",\" + \"CS\" + \",\" + \"BA\" + \",\" + \"OBP\" + \",\" + \"SLG\" + \",\" + \"OPS\" + \",\" + \"BOP\" + \",\" + \"aLI\" + \",\" + \"WPA\" + \",\" + \"RE24\" + \",\" + \"Pos\" + '\\n')\n",
    "        writer = csv.writer(f)\n",
    "        try:\n",
    "            #Pulls the data from the table\n",
    "            for row in soup('table', {'class': 'sortable stats_table row_summable'})[0].tbody.findAll('tr'):\n",
    "                if 'thead' in row.get('class'):\n",
    "                        pass\n",
    "                else:\n",
    "                        tds = row.find_all('td')\n",
    "                        row_write = [elem.text.strip().encode('utf-8') for elem in tds]\n",
    "                        print(row)\n",
    "                        break\n",
    "                        writer.writerow(row_write)\n",
    "        #Skip in event there is no data for player\n",
    "        except IndexError:\n",
    "            pass"
   ]
  },
  {
   "cell_type": "code",
   "execution_count": 37,
   "metadata": {},
   "outputs": [
    {
     "ename": "SyntaxError",
     "evalue": "unexpected EOF while parsing (<ipython-input-37-2e499512e62d>, line 2)",
     "output_type": "error",
     "traceback": [
      "\u001b[0;36m  File \u001b[0;32m\"<ipython-input-37-2e499512e62d>\"\u001b[0;36m, line \u001b[0;32m2\u001b[0m\n\u001b[0;31m    for reach in pool.map(fetch_batting_data, secondary_playerlist, '2016'):\u001b[0m\n\u001b[0m                                                                            ^\u001b[0m\n\u001b[0;31mSyntaxError\u001b[0m\u001b[0;31m:\u001b[0m unexpected EOF while parsing\n"
     ]
    }
   ],
   "source": [
    "with futures.ThreadPoolExecutor() as pool:\n",
    "    for reach in pool.map(fetch_batting_data, secondary_playerlist, '2016')\n",
    "        "
   ]
  },
  {
   "cell_type": "code",
   "execution_count": 39,
   "metadata": {},
   "outputs": [
    {
     "name": "stdout",
     "output_type": "stream",
     "text": [
      "daviskh01\n"
     ]
    }
   ],
   "source": [
    "fetch_batting_data('daviskh01', 2016)"
   ]
  },
  {
   "cell_type": "code",
   "execution_count": 58,
   "metadata": {},
   "outputs": [],
   "source": [
    "type_of = 'batting'\n",
    "url = 'http://www.baseball-reference.com/leagues/MLB/2017-standard-batting.shtml'\n",
    "\n",
    "secondary_playerlist = []\n",
    "\n",
    "soup = BeautifulSoup(requests.get(url).text,'html5lib')"
   ]
  },
  {
   "cell_type": "code",
   "execution_count": 89,
   "metadata": {},
   "outputs": [],
   "source": [
    "level = soup('div', {'id': 'all_players_standard_batting'})[0]"
   ]
  },
  {
   "cell_type": "code",
   "execution_count": 87,
   "metadata": {},
   "outputs": [
    {
     "name": "stdout",
     "output_type": "stream",
     "text": [
      "<div class=\"section_heading\">\n",
      "  <span class=\"section_anchor\" data-label=\"Player Standard Batting\" id=\"players_standard_batting_link\"></span>\n",
      "    <h2>Player Standard Batting</h2>    <div class=\"section_heading_text\">\n",
      "      <ul>\n",
      "      </ul>\n",
      "    </div>\t\t\n",
      "</div>\n",
      "<div class=\"section_heading_text\">\n",
      "      <ul>\n",
      "      </ul>\n",
      "    </div>\n",
      "<div class=\"placeholder\"></div>\n",
      "<div class=\"placeholder\"></div>\n"
     ]
    }
   ],
   "source": [
    "for x in level.findAll('div'):\n",
    "    print(x)"
   ]
  },
  {
   "cell_type": "code",
   "execution_count": 91,
   "metadata": {
    "scrolled": false
   },
   "outputs": [
    {
     "data": {
      "text/plain": [
       "[]"
      ]
     },
     "execution_count": 91,
     "metadata": {},
     "output_type": "execute_result"
    }
   ],
   "source": [
    "soup.findAll('table', {'id':'player_standard_batting'})"
   ]
  }
 ],
 "metadata": {
  "kernelspec": {
   "display_name": "Python 3",
   "language": "python",
   "name": "python3"
  },
  "language_info": {
   "codemirror_mode": {
    "name": "ipython",
    "version": 3
   },
   "file_extension": ".py",
   "mimetype": "text/x-python",
   "name": "python",
   "nbconvert_exporter": "python",
   "pygments_lexer": "ipython3",
   "version": "3.6.0"
  }
 },
 "nbformat": 4,
 "nbformat_minor": 2
}
