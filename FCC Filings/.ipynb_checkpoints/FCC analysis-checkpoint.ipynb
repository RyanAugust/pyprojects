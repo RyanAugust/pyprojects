{
 "cells": [
  {
   "cell_type": "code",
   "execution_count": 1,
   "metadata": {
    "collapsed": true
   },
   "outputs": [],
   "source": [
    "import requests \n",
    "import pandas as pd\n",
    "import numpy as np\n",
    "from datetime import datetime as dt\n",
    "import matplotlib.pyplot as plt\n",
    "\n",
    "requests.packages.urllib3.disable_warnings()\n",
    "\n",
    "%matplotlib inline"
   ]
  },
  {
   "cell_type": "code",
   "execution_count": null,
   "metadata": {},
   "outputs": [
    {
     "name": "stdout",
     "output_type": "stream",
     "text": [
      "Beginning Cleaning...\n",
      "Extracting Geo Data\n"
     ]
    },
    {
     "name": "stderr",
     "output_type": "stream",
     "text": [
      "/Users/ryand/pyprojects/pyproj-venv3/lib/python3.6/site-packages/ipykernel_launcher.py:41: SettingWithCopyWarning: \n",
      "A value is trying to be set on a copy of a slice from a DataFrame.\n",
      "Try using .loc[row_indexer,col_indexer] = value instead\n",
      "\n",
      "See the caveats in the documentation: http://pandas.pydata.org/pandas-docs/stable/indexing.html#indexing-view-versus-copy\n",
      "/Users/ryand/pyprojects/pyproj-venv3/lib/python3.6/site-packages/ipykernel_launcher.py:42: SettingWithCopyWarning: \n",
      "A value is trying to be set on a copy of a slice from a DataFrame.\n",
      "Try using .loc[row_indexer,col_indexer] = value instead\n",
      "\n",
      "See the caveats in the documentation: http://pandas.pydata.org/pandas-docs/stable/indexing.html#indexing-view-versus-copy\n",
      "/Users/ryand/pyprojects/pyproj-venv3/lib/python3.6/site-packages/ipykernel_launcher.py:43: SettingWithCopyWarning: \n",
      "A value is trying to be set on a copy of a slice from a DataFrame.\n",
      "Try using .loc[row_indexer,col_indexer] = value instead\n",
      "\n",
      "See the caveats in the documentation: http://pandas.pydata.org/pandas-docs/stable/indexing.html#indexing-view-versus-copy\n"
     ]
    },
    {
     "name": "stdout",
     "output_type": "stream",
     "text": [
      "Dropping addressentity\n"
     ]
    }
   ],
   "source": [
    "def get_filings(endpoint, offset, n_records, proceeding, api_key): \n",
    "    ##Gets FCC filings about given proceeding from endpoint, starting \n",
    "    ##at offset and collecting n_records (breaks if n_records too large)\n",
    "    \n",
    "    print(\"Trying to get filings {} to {}...\".format(str(offset), str(offset + n_records)))\n",
    "\n",
    "    payload = {'limit':n_records, 'proceedings.name': proceeding, 'offset':offset, 'api_key': api_key,\n",
    "               \"sort\": \"date_submission,ASC\"}\n",
    "\n",
    "    r = requests.get(endpoint, params = payload)\n",
    "    filings = r.json()['filings']\n",
    "\n",
    "    print(\"...got {}, returned {} filings\".format(r.reason, len(filings)))\n",
    "    \n",
    "    return filings\n",
    "\n",
    "def geo_clean(dic, part):\n",
    "    try:\n",
    "        if part in dic.keys():\n",
    "            return dic[part]\n",
    "        else:\n",
    "            return None\n",
    "    except:\n",
    "        return None\n",
    "    \n",
    "df_filtered['city'] = df_filtered.addressentity.apply(lambda x: geo_clean(x, 'city'))\n",
    "df_filtered['state'] = df_filtered.addressentity.apply(lambda x: geo_clean(x, 'state'))\n",
    "df_filtered['zip_code'] = df_filtered.addressentity.apply(lambda x: geo_clean(x, 'zip_code'))\n",
    "\n",
    "def clean_data(filings): \n",
    "    ## Clean up the raw scraped data for analysis\n",
    "    df = pd.DataFrame(filings)\n",
    "\n",
    "    print('Beginning Cleaning...')\n",
    "    \n",
    "    df_filtered = df[['id_submission', 'contact_email', 'date_submission', 'date_received', \n",
    "                      'date_disseminated','text_data', 'addressentity']]\n",
    "\n",
    "    print('Extracting Geo Data')\n",
    "    # Extract geo data \n",
    "    df_filtered['city'] = df_filtered.addressentity.apply(lambda x: geo_clean(x,'city'))\n",
    "    df_filtered['state'] = df_filtered.addressentity.apply(lambda x: geo_clean(x,'state'))\n",
    "    df_filtered['zip_code'] = df_filtered.addressentity.apply(lambda x: geo_clean(x,'zip_code'))\n",
    "    \n",
    "    print('Dropping addressentity')\n",
    "    \n",
    "    df_clean = df_filtered.drop(['addressentity'], axis = 1)\n",
    "\n",
    "    return df_clean\n",
    "\n",
    "# static params\n",
    "PROCEEDING = '17-108'\n",
    "ENDPOINT = 'https://publicapi.fcc.gov/ecfs/filings'\n",
    "\n",
    "API_KEY = \"rD4FQADVdjYymAyhmCf212Ov7um5vKqDOVb3UPcF\" # Your API Key Here \n",
    "\n",
    "# initialize\n",
    "OFFSET = 0\n",
    "N_RECORDS = 10000 # larger than this seems to break the API\n",
    "\n",
    "filings = []\n",
    "\n",
    "while True: \n",
    "    new_filings = get_filings(ENDPOINT, OFFSET, N_RECORDS, PROCEEDING, API_KEY)\n",
    "    if new_filings: \n",
    "        filings += new_filings\n",
    "        OFFSET += N_RECORDS\n",
    "    else: \n",
    "        break \n",
    "\n",
    "# clean the data up & write it to a file for analysis\n",
    "df_clean = clean_data(filings)\n",
    "print('complete')\n",
    "df_clean.to_csv('/Users/ryand/Downloads/raw_data_pub_api_sorted_5_21_1951.csv', encoding = 'utf-8')"
   ]
  },
  {
   "cell_type": "code",
   "execution_count": 15,
   "metadata": {},
   "outputs": [],
   "source": [
    "def clean_text(df):\n",
    "    df['text_data'] = df['text_data'].str.lower()\n",
    "    df['text_data'] = df['text_data'].map(lambda x: str(x).replace('title ii','title 2'))\n",
    "    df['text_data'] = df['text_data'].map(lambda x: str(x).replace(\"'\",\"\"))\n",
    "    df['text_data'] = df['text_data'].map(lambda x: str(x).replace(\"[^0-9a-zA-Z\\\\s]\", \" \"))\n",
    "    df['text_data'] = df['text_data'].map(lambda x: str(x).replace(\"[\\\\s]+\", \" \"))\n",
    "    return df\n",
    "df_final = clean_text(df_clean)"
   ]
  },
  {
   "cell_type": "code",
   "execution_count": 13,
   "metadata": {},
   "outputs": [
    {
     "name": "stdout",
     "output_type": "stream",
     "text": [
      "\n",
      "\n",
      "\n",
      "\n",
      "\n",
      "\n",
      "\n",
      "\n",
      "\n",
      "\n",
      "\n",
      "\n",
      "\n"
     ]
    }
   ],
   "source": [
    "print('\\n\\n\\n\\n\\n\\n\\n\\n\\n\\n\\n\\n')"
   ]
  },
  {
   "cell_type": "code",
   "execution_count": 33,
   "metadata": {
    "collapsed": true
   },
   "outputs": [],
   "source": [
    "## Top spam submission\n",
    "\n",
    "spam_str = 'the unprecedented regulatory power the obama administration imposed on the \\\n",
    "internet is smothering innovation, damaging the american economy and obstructing job \\\n",
    "creation.\\n\\ni urge the federal communications commission to end the bureaucratic regulatory \\\n",
    "overreach of the internet known as title 2 and restore the bipartisan light-touch regulatory \\\n",
    "consensus that enabled the internet to flourish for more than 20 years.\\n\\nthe plan currently \\\n",
    "under consideration at the fcc to repeal obamas title 2 power grab is a positive step forward \\\n",
    "and will help to promote a truly free and open internet for everyone.\\n'"
   ]
  },
  {
   "cell_type": "code",
   "execution_count": 34,
   "metadata": {
    "collapsed": true
   },
   "outputs": [],
   "source": [
    "df_clean['spam'] = np.where(df_clean['text_data']==spam_str, 'Spam','Not Spam')\n",
    "\n",
    "df_clean['received'] = pd.to_datetime(df_clean['date_submission'])\n",
    "\n",
    "df_clean['date_time'] = df_clean['received'].apply(lambda dtd: \n",
    "                                             dt(dtd.year, dtd.month, dtd.day, dtd.hour))\n",
    "\n",
    "hourly_spam = df_clean.groupby(['date_time','spam']).sum()[['cc']]"
   ]
  },
  {
   "cell_type": "code",
   "execution_count": 148,
   "metadata": {
    "collapsed": true
   },
   "outputs": [],
   "source": [
    "pl = hourly_spam.unstack(level=1)"
   ]
  },
  {
   "cell_type": "code",
   "execution_count": 154,
   "metadata": {},
   "outputs": [
    {
     "data": {
      "text/plain": [
       "(0, 60000)"
      ]
     },
     "execution_count": 154,
     "metadata": {},
     "output_type": "execute_result"
    },
    {
     "data": {
      "image/png": "[encoded data removed]",
      "text/plain": [
       "<matplotlib.figure.Figure at 0x12d16c5f8>"
      ]
     },
     "metadata": {},
     "output_type": "display_data"
    }
   ],
   "source": [
    "fig, ax = plt.subplots(figsize=(20,10))\n",
    "ax.bar(pl.index, \n",
    "       pl[('cc','Not Spam')], \n",
    "       color = 'blue', \n",
    "       alpha = .5, \n",
    "       width = .0415\n",
    "      )\n",
    "ax.bar(pl.index, \n",
    "       pl[('cc','Spam')], \n",
    "       color = 'red', \n",
    "       alpha = .5, \n",
    "       width = .0415\n",
    "      )\n",
    "ax.set_xlim('2017-05-08 00:00:00','2017-05-13 00:00:00')\n",
    "ax.set_ylim(0,60000)"
   ]
  },
  {
   "cell_type": "code",
   "execution_count": null,
   "metadata": {
    "collapsed": true
   },
   "outputs": [],
   "source": []
  }
 ],
 "metadata": {
  "kernelspec": {
   "display_name": "Python 3",
   "language": "python",
   "name": "python3"
  }
 },
 "nbformat": 4,
 "nbformat_minor": 2
}
